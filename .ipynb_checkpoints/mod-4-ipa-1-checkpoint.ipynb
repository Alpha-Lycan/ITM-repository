{
 "cells": [
  {
   "cell_type": "code",
   "execution_count": null,
   "id": "8045e3c6-2389-42c7-b1b6-1f99ef985e92",
   "metadata": {},
   "outputs": [],
   "source": []
  },
  {
   "cell_type": "raw",
   "id": "d572ad6b-1f10-4e49-9f45-da1823fdc94e",
   "metadata": {},
   "source": [
    "1. Relationship Status"
   ]
  },
  {
   "cell_type": "code",
   "execution_count": 14,
   "id": "a84d7ca6-9b33-4ddd-ad95-ffb9055d6ca4",
   "metadata": {},
   "outputs": [
    {
     "ename": "NameError",
     "evalue": "name 'social_graph' is not defined",
     "output_type": "error",
     "traceback": [
      "\u001b[0;31m---------------------------------------------------------------------------\u001b[0m",
      "\u001b[0;31mNameError\u001b[0m                                 Traceback (most recent call last)",
      "Input \u001b[0;32mIn [14]\u001b[0m, in \u001b[0;36m<cell line: 22>\u001b[0;34m()\u001b[0m\n\u001b[1;32m      6\u001b[0m             \u001b[38;5;28mprint\u001b[39m(followed_by_member)\n\u001b[1;32m      7\u001b[0m             \u001b[38;5;66;03m#if to_member==followed_by_from_member:\u001b[39;00m\n\u001b[1;32m      8\u001b[0m                 \u001b[38;5;66;03m#return (\"follower\")\u001b[39;00m\n\u001b[1;32m      9\u001b[0m             \u001b[38;5;66;03m#elif to_member== \u001b[39;00m\n\u001b[0;32m   (...)\u001b[0m\n\u001b[1;32m     20\u001b[0m         \n\u001b[1;32m     21\u001b[0m     \u001b[38;5;66;03m#return string \u001b[39;00m\n\u001b[0;32m---> 22\u001b[0m relationship_status(\u001b[38;5;124m\"\u001b[39m\u001b[38;5;124m@chums\u001b[39m\u001b[38;5;124m\"\u001b[39m,\u001b[38;5;124m\"\u001b[39m\u001b[38;5;124m@bongolpoc\u001b[39m\u001b[38;5;124m\"\u001b[39m, \u001b[43msocial_graph\u001b[49m)\n",
      "\u001b[0;31mNameError\u001b[0m: name 'social_graph' is not defined"
     ]
    }
   ],
   "source": [
    "def relationship_status(from_member, to_member, social_graph):\n",
    "    #open the json thingy and make it a dictionary\n",
    "    with open('mod-4-ipa-1-sample-data.py','r') as f:\n",
    "        #for something in the data\n",
    "        for followed_by_from_member in social_graph[from_member][\"following\"]:\n",
    "            print(followed_by_member)\n",
    "            #if to_member==followed_by_from_member:\n",
    "                #return (\"follower\")\n",
    "            #elif to_member== \n",
    "            #print(social_graph[followed_by_from_member][\"following\"])#:\n",
    "                # return(\"followed by\")\n",
    "        \n",
    "            \n",
    "            \n",
    "            #get to member from the json file from the values list of usernames this person is following \n",
    "            #get the following status of from member to member \n",
    "                #if from member is followed by to member, return follower\n",
    "                #if from member is followed by to member\n",
    "                #if followed and followed by, return friends\n",
    "        \n",
    "    #return string \n",
    "relationship_status(\"@chums\",\"@bongolpoc\", social_graph)"
   ]
  },
  {
   "cell_type": "code",
   "execution_count": null,
   "id": "fd670dc7-c9e5-4a1f-b690-5037c5ce92c5",
   "metadata": {},
   "outputs": [],
   "source": []
  },
  {
   "cell_type": "code",
   "execution_count": 10,
   "id": "2c9c8081-9aa4-479d-bc2d-e98dc70b958d",
   "metadata": {},
   "outputs": [
    {
     "ename": "NameError",
     "evalue": "name 'social_graph' is not defined",
     "output_type": "error",
     "traceback": [
      "\u001b[0;31m---------------------------------------------------------------------------\u001b[0m",
      "\u001b[0;31mNameError\u001b[0m                                 Traceback (most recent call last)",
      "Input \u001b[0;32mIn [10]\u001b[0m, in \u001b[0;36m<cell line: 1>\u001b[0;34m()\u001b[0m\n\u001b[1;32m      1\u001b[0m \u001b[38;5;28;01mwith\u001b[39;00m \u001b[38;5;28mopen\u001b[39m(\u001b[38;5;124m'\u001b[39m\u001b[38;5;124mmod-4-ipa-1-sample-data.py\u001b[39m\u001b[38;5;124m'\u001b[39m,\u001b[38;5;124m'\u001b[39m\u001b[38;5;124mr\u001b[39m\u001b[38;5;124m'\u001b[39m) \u001b[38;5;28;01mas\u001b[39;00m f:\n\u001b[0;32m----> 2\u001b[0m        \u001b[38;5;28mprint\u001b[39m(\u001b[43msocial_graph\u001b[49m)\n",
      "\u001b[0;31mNameError\u001b[0m: name 'social_graph' is not defined"
     ]
    }
   ],
   "source": [
    " with open('mod-4-ipa-1-sample-data.py','r') as f:\n",
    "        print(social_graph)"
   ]
  },
  {
   "cell_type": "raw",
   "id": "020c80e4-7049-4aef-95fe-0432c8682f3b",
   "metadata": {},
   "source": [
    "2. Tic tac toe"
   ]
  },
  {
   "cell_type": "code",
   "execution_count": null,
   "id": "def9dbbc-bc6a-43c1-bd68-65f79ae1fefd",
   "metadata": {},
   "outputs": [],
   "source": [
    "def tic_tac_toe(board):"
   ]
  },
  {
   "cell_type": "raw",
   "id": "fe21a3bc-53c9-4247-bfe6-532d8c0e1871",
   "metadata": {},
   "source": [
    "3. ETA"
   ]
  },
  {
   "cell_type": "code",
   "execution_count": null,
   "id": "5e306e33-8480-4cd9-b401-6a3f10932600",
   "metadata": {},
   "outputs": [],
   "source": [
    "def eta(first_stop, second_stop, route_map):"
   ]
  }
 ],
 "metadata": {
  "kernelspec": {
   "display_name": "Python 3 (ipykernel)",
   "language": "python",
   "name": "python3"
  },
  "language_info": {
   "codemirror_mode": {
    "name": "ipython",
    "version": 3
   },
   "file_extension": ".py",
   "mimetype": "text/x-python",
   "name": "python",
   "nbconvert_exporter": "python",
   "pygments_lexer": "ipython3",
   "version": "3.9.12"
  }
 },
 "nbformat": 4,
 "nbformat_minor": 5
}
