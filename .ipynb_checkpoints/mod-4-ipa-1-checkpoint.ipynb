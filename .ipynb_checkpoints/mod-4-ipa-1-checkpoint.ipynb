{
 "cells": [
  {
   "cell_type": "code",
   "execution_count": 30,
   "id": "8045e3c6-2389-42c7-b1b6-1f99ef985e92",
   "metadata": {},
   "outputs": [],
   "source": []
  },
  {
   "cell_type": "raw",
   "id": "d572ad6b-1f10-4e49-9f45-da1823fdc94e",
   "metadata": {},
   "source": [
    "1. Relationship Status"
   ]
  },
  {
   "cell_type": "code",
   "execution_count": 75,
   "id": "ad54a12c-d21b-4c1f-8f6c-6f60ef7444be",
   "metadata": {},
   "outputs": [
    {
     "data": {
      "text/plain": [
       "'no relationship'"
      ]
     },
     "execution_count": 75,
     "metadata": {},
     "output_type": "execute_result"
    }
   ],
   "source": [
    "def relationship_status(from_member, to_member, social_graph):\n",
    "\n",
    "    with open('mod-4-ipa-1-sample-data.py','r') as f:\n",
    "        from_member_following=(social_graph.get(from_member)).get(\"following\")\n",
    "        to_member_following=(social_graph.get(to_member)).get(\"following\")\n",
    "        follower= False \n",
    "        followed_by= False \n",
    "        friends= False \n",
    "        no_relationship= False \n",
    "        for username in from_member_following: \n",
    "            if username==to_member: \n",
    "                follower= True \n",
    "                \n",
    "        for username in to_member_following:\n",
    "            if username==from_member:\n",
    "                followed_by=True \n",
    "                \n",
    "        if follower==True and followed_by==True: \n",
    "            return('friends')\n",
    "        elif follower == True and followed_by==False:\n",
    "            return('follower')\n",
    "        elif follower== False and followed_by==True:\n",
    "            return('followed by')\n",
    "        else:\n",
    "            return('no relationship')\n",
    "                \n",
    "relationship_status(\"@joeilagan\",\"@bongolpoc\", social_graph)"
   ]
  },
  {
   "cell_type": "code",
   "execution_count": 60,
   "id": "fd670dc7-c9e5-4a1f-b690-5037c5ce92c5",
   "metadata": {},
   "outputs": [
    {
     "name": "stdout",
     "output_type": "stream",
     "text": [
      "{'@bongolpoc': {'first_name': 'Joselito', 'last_name': 'Olpoc', 'following': []}, '@joaquin': {'first_name': 'Joaquin', 'last_name': 'Gonzales', 'following': ['@chums', '@jobenilagan']}, '@chums': {'first_name': 'Matthew', 'last_name': 'Uy', 'following': ['@bongolpoc', '@miketan', '@rudyang', '@joeilagan']}, '@jobenilagan': {'first_name': 'Joben', 'last_name': 'Ilagan', 'following': ['@eeebeee', '@joeilagan', '@chums', '@joaquin']}, '@joeilagan': {'first_name': 'Joe', 'last_name': 'Ilagan', 'following': ['@eeebeee', '@jobenilagan', '@chums']}, '@eeebeee': {'first_name': 'Elizabeth', 'last_name': 'Ilagan', 'following': ['@jobenilagan', '@joeilagan']}}\n"
     ]
    }
   ],
   "source": []
  },
  {
   "cell_type": "code",
   "execution_count": null,
   "id": "2c9c8081-9aa4-479d-bc2d-e98dc70b958d",
   "metadata": {},
   "outputs": [],
   "source": []
  },
  {
   "cell_type": "raw",
   "id": "020c80e4-7049-4aef-95fe-0432c8682f3b",
   "metadata": {},
   "source": [
    "2. Tic tac toe"
   ]
  },
  {
   "cell_type": "code",
   "execution_count": null,
   "id": "def9dbbc-bc6a-43c1-bd68-65f79ae1fefd",
   "metadata": {},
   "outputs": [],
   "source": [
    "def tic_tac_toe(board):"
   ]
  },
  {
   "cell_type": "raw",
   "id": "fe21a3bc-53c9-4247-bfe6-532d8c0e1871",
   "metadata": {},
   "source": [
    "3. ETA"
   ]
  },
  {
   "cell_type": "code",
   "execution_count": null,
   "id": "5e306e33-8480-4cd9-b401-6a3f10932600",
   "metadata": {},
   "outputs": [],
   "source": [
    "def eta(first_stop, second_stop, route_map):"
   ]
  }
 ],
 "metadata": {
  "kernelspec": {
   "display_name": "Python 3 (ipykernel)",
   "language": "python",
   "name": "python3"
  },
  "language_info": {
   "codemirror_mode": {
    "name": "ipython",
    "version": 3
   },
   "file_extension": ".py",
   "mimetype": "text/x-python",
   "name": "python",
   "nbconvert_exporter": "python",
   "pygments_lexer": "ipython3",
   "version": "3.9.12"
  }
 },
 "nbformat": 4,
 "nbformat_minor": 5
}
