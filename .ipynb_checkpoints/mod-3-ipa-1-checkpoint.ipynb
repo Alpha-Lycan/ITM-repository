{
 "cells": [
  {
   "cell_type": "raw",
   "id": "ded5f739-39b0-4cad-9785-d507cf281956",
   "metadata": {},
   "source": [
    "1. shift letter\n",
    "\n",
    "    define range and give it numbers\n",
    "\n",
    "\n",
    "    "
   ]
  },
  {
   "cell_type": "code",
   "execution_count": 22,
   "id": "3e34304b-4101-4d8f-b224-282637f75c78",
   "metadata": {},
   "outputs": [
    {
     "ename": "SyntaxError",
     "evalue": "invalid syntax (2881787762.py, line 11)",
     "output_type": "error",
     "traceback": [
      "\u001b[0;36m  Input \u001b[0;32mIn [22]\u001b[0;36m\u001b[0m\n\u001b[0;31m    def shift_letter(\"A\",3)\u001b[0m\n\u001b[0m                     ^\u001b[0m\n\u001b[0;31mSyntaxError\u001b[0m\u001b[0;31m:\u001b[0m invalid syntax\n"
     ]
    }
   ],
   "source": [
    "def shift_letter(letter, shift):\n",
    "    for ch in letter:\n",
    "        if ch.isalpha():\n",
    "            alphabet_stay = ord(ch) + shift \n",
    "            if alphabet_stay > ord('Z'):\n",
    "                alphabet_stay-=26\n",
    "                finalLetter = chr(alphabet_stay)\n",
    "            cipherText = \"\"\n",
    "            cipherText += finalLetter\n",
    "    return cipherText\n",
    "def shift_letter(\"A\",3)\n",
    "\n",
    "        \n",
    "        \n",
    "        \n",
    "    "
   ]
  },
  {
   "cell_type": "raw",
   "id": "c2676e29-4260-47d2-8c9e-432435a088fa",
   "metadata": {},
   "source": [
    "2. Caesar cipher"
   ]
  },
  {
   "cell_type": "raw",
   "id": "ca1f8b10-da25-49a7-a77c-a7afe7020380",
   "metadata": {},
   "source": [
    "3. shift by letter "
   ]
  },
  {
   "cell_type": "raw",
   "id": "39fea10f-b4c1-4377-9a62-d37bab28e17d",
   "metadata": {},
   "source": [
    "4. vignere cipher"
   ]
  },
  {
   "cell_type": "raw",
   "id": "a0166d6c-035d-4e4c-ab3d-99decd289c7a",
   "metadata": {},
   "source": [
    "5. scytale decipher"
   ]
  },
  {
   "cell_type": "code",
   "execution_count": 15,
   "id": "f30c7c7e-1b20-401e-b16c-4f4a4a6a1ef8",
   "metadata": {},
   "outputs": [
    {
     "data": {
      "text/plain": [
       "'\\x01'"
      ]
     },
     "execution_count": 15,
     "metadata": {},
     "output_type": "execute_result"
    }
   ],
   "source": []
  },
  {
   "cell_type": "code",
   "execution_count": null,
   "id": "0e4f453e-ddc0-474e-9cf2-2adc010ace2c",
   "metadata": {},
   "outputs": [],
   "source": []
  }
 ],
 "metadata": {
  "kernelspec": {
   "display_name": "Python 3 (ipykernel)",
   "language": "python",
   "name": "python3"
  },
  "language_info": {
   "codemirror_mode": {
    "name": "ipython",
    "version": 3
   },
   "file_extension": ".py",
   "mimetype": "text/x-python",
   "name": "python",
   "nbconvert_exporter": "python",
   "pygments_lexer": "ipython3",
   "version": "3.9.12"
  }
 },
 "nbformat": 4,
 "nbformat_minor": 5
}
