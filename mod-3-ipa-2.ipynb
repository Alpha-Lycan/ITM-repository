{
 "cells": [
  {
   "cell_type": "raw",
   "id": "b85bd9e4-7ce9-486e-bae1-8045c9263934",
   "metadata": {},
   "source": [
    "optimal diet "
   ]
  },
  {
   "cell_type": "raw",
   "id": "74227969-ea86-49d6-baff-412cc004fa2f",
   "metadata": {},
   "source": [
    "Linear program for this\n",
    "\n",
    "Constants:\n",
    "    A=corn_protein_composition\n",
    "    B=corn_fiber_composition\n",
    "    C=corn_cost_per_pound\n",
    "    D=soymeal_protein_composition\n",
    "    E=soymeal_fiber_composition\n",
    "    F=soymeal_cost_per_pound\n",
    "\n",
    "Decision Variables: \n",
    "    Xi= Number of pounds of feed of type i\n",
    "    (i= 1 to 2, 1= corn, 2= soymeal)\n",
    "Obj. Function:\n",
    "    Min Z= total cost of feed\n",
    "    Min Z= CX1+FX2\n",
    "Constraints:\n",
    "    (AX1+DX2)/(X1+X2)<= 0.05 (fiber cap)\n",
    "    (BX1+EX2)/(X1+X2)>=0.3 (protein req)\n",
    "     X1+X2>= 800 (feed req)\n",
    "     X1, X2>=0 (NN constraint)\n",
    "     \n",
    "return a tuple of X1 and X2 (X1, X2)"
   ]
  },
  {
   "cell_type": "code",
   "execution_count": 44,
   "id": "bb3b643f-c250-410c-b4df-ccea6651a6e4",
   "metadata": {},
   "outputs": [],
   "source": [
    "def optimal_diet(corn_protein_composition, corn_fiber_composition, corn_cost_per_pound,soymeal_protein_composition, soymeal_fiber_composition, soymeal_cost_per_pound):\n",
    "    \n",
    "    #check every possible combination of feed\n",
    "    #per combination of feed, \n",
    "        #compute for the cost of each blend, then return the best combination with minimum cost. \n",
    "    \n",
    "    #declare that the variable exists when you put it into 0\n",
    "    corn_pounds=0\n",
    "    soymeal_pounds=0\n",
    "    #decision variables\n",
    "    #optimization function; define a function inside the function\n",
    "    def objfunc(corn_pounds, soymeal_pounds):\n",
    "        corn_cost= (corn_cost_per_pound*corn_pounds)\n",
    "        soymeal_cost=(soymeal_cost_per_pound*soymeal_pounds)\n",
    "        return(corn_cost+soymeal_cost)\n",
    "    \n",
    "    #constraints: implement constraint 1 as a function\n",
    "    def constraint1(corn_pounds, soymeal_pounds): \n",
    "        total_pounds= corn_pounds+soymeal_pounds\n",
    "        minimum_protein= total_pounds*0.3\n",
    "        maximum_fiber=total_pounds*0.05\n",
    "        protein=(corn_pounds*corn_protein_composition)+(soymeal_pounds*soymeal_protein_composition)\n",
    "        fiber=(corn_pounds*corn_fiber_composition)+(soymeal_pounds*soymeal_fiber_composition)\n",
    "        return(protein>=minimum_protein and protein <= maximum_fiber)\n",
    "    #set the sum of soymeal and corn to be 800 because there is a chance that this constraint will force this to not lie on this lie because it's worth a try to see if any solutions will satisfy this constraint.\n",
    "    results=[]\n",
    "    for c in range(800+1): \n",
    "        s=800-c\n",
    "        combo= (c,s)\n",
    "        #filter if it does not meet the constraint\n",
    "    best_index=0\n",
    "    current_best_objf_val=float('inf')\n",
    "    for i, result in enumerate(results):\n",
    "        if result[1]<current_best_objf_val:\n",
    "            best_index=i\n",
    "            result=[1]\n",
    "            current_best_objf_val=result[1]\n",
    "        return results[best_index][0]\n",
    "    \n",
    "        \n",
    "   \n",
    "    #find the minimum value\n",
    "   \n",
    "        \n",
    "    \n",
    "    \n",
    "    \n",
    "    \n",
    "    \n",
    "    \n",
    "optimal_diet(0.09,0.02,3,0.60,0.06,9)"
   ]
  },
  {
   "cell_type": "code",
   "execution_count": 43,
   "id": "19adfb13-492b-4c46-99ed-0e4ff61812dd",
   "metadata": {},
   "outputs": [
    {
     "name": "stdout",
     "output_type": "stream",
     "text": [
      "hello\n"
     ]
    }
   ],
   "source": [
    "def optimal_diet(corn_protein_composition, corn_fiber_composition, corn_cost_per_pound,soymeal_protein_composition, soymeal_fiber_composition, soymeal_cost_per_pound):\n",
    "    print(\"hello\")\n",
    "    \n",
    "optimal_diet(0,0,0,0,0,0)\n",
    "    "
   ]
  },
  {
   "cell_type": "raw",
   "id": "085c6c62-2e53-4425-851a-29207a74cfb5",
   "metadata": {},
   "source": [
    "optimal investments"
   ]
  },
  {
   "cell_type": "raw",
   "id": "908cc24e-a269-4e88-8b96-90c793559fcd",
   "metadata": {},
   "source": [
    "Linear program: \n",
    "\n",
    "Constants: \n",
    "   A= personal_loan_rate\n",
    "   B= personal_loan_writeoff_ratio\n",
    "   C= car_loan_rate\n",
    "   D= car_loan_writeoff_ratio\n",
    "   E= home_loan_rate\n",
    "   F= home_loan_writeoff_ratio\n",
    "   G= farm_loan_rate\n",
    "   H= farm_loan_writeoff_ratio\n",
    "   I= commercial_loan_rate\n",
    "   J= commercial_loan_writeoff_ratio\n",
    "   K= constraint_max_pesos\n",
    "\n",
    "Decision Variables: \n",
    "    Let Xi be the amount of pesos to allocate to loan i.\n",
    "    (i=1 to 5, 1= Personal, 2= Car, 3= Home, 4= Farm, 5= Commercial)\n",
    "    \n",
    "Objective Function: \n",
    "    Max Z= revenue gained from interest of the loans\n",
    "    Max Z= a*x1+c*x2+e*x2+g*x4+i*x5\n",
    "\n",
    "Constraints: \n",
    "\n",
    "    (a*x1+b*x1+c*x2+d*x2+e*x3+f*x3+g*x4+h*x4+i*x5+j*x5<=K) (Investment cap)\n",
    "    ((g*x4+h*x4+i*x5+j*x5)/(a*x1+b*x1+c*x2+d*x2+e*x3+f*x3+g*x4+h*x4+i*x5+j*x5)>=0.4) (Commercial and farm loans req.)\n",
    "    \n",
    "    ((c*x2+d*x2)/(a*x1+b*x1+c*x2+d*x2+e*x3+f*x3)>=0.5)(Housing industry req)\n",
    "    ((b*x1+d*x2+f*x3+h*x4+j*x5)/( a*x1+b*x1+c*x2+d*x2+e*x3+f*x3+g*x4+h*x4+i*x5+j*x5<))<=0.04 (bad debt cap.)\n",
    "    \n",
    "    x1>=0\n",
    "    x2>=0\n",
    "    x3>=0\n",
    "    x4>=0\n",
    "    x5>=0\n",
    "    \n",
    "return a tuple of (X1, X2, X3, X4, X5)"
   ]
  },
  {
   "cell_type": "code",
   "execution_count": null,
   "id": "32ead0eb-9aff-4ad7-b25f-c217241dcfba",
   "metadata": {},
   "outputs": [],
   "source": [
    "def optimal_investments(\n",
    "    personal_loan_rate, personal_loan_writeoff_ratio,\n",
    "    car_loan_rate, car_loan_writeoff_ratio,\n",
    "    home_loan_rate, home_loan_writeoff_ratio,\n",
    "    farm_loan_rate, farm_loan_writeoff_ratio,\n",
    "    commercial_loan_rate, commercial_loan_writeoff_ratio,\n",
    "    constraint_max_pesos\n",
    "):\n",
    "    a= personal_loan_rate\n",
    "    b= personal_loan_writeoff_ratio\n",
    "    c= car_loan_rate\n",
    "    d= car_loan_writeoff_ratio\n",
    "    e= home_loan_rate\n",
    "    f= home_loan_writeoff_ratio\n",
    "    g= farm_loan_rate\n",
    "    h= farm_loan_writeoff_ratio\n",
    "    i= commercial_loan_rate\n",
    "    j= commercial_loan_writeoff_ratio\n",
    "    k= constraint_max_pesos\n"
   ]
  },
  {
   "cell_type": "code",
   "execution_count": null,
   "id": "57451933-1477-4009-92c4-3ba659427740",
   "metadata": {},
   "outputs": [],
   "source": []
  },
  {
   "cell_type": "code",
   "execution_count": null,
   "id": "20492700-cf72-4c3c-9871-fda4e133b88b",
   "metadata": {},
   "outputs": [],
   "source": []
  },
  {
   "cell_type": "code",
   "execution_count": null,
   "id": "cd48159a-4cd7-43b7-88be-9705c6541e12",
   "metadata": {},
   "outputs": [],
   "source": []
  }
 ],
 "metadata": {
  "kernelspec": {
   "display_name": "Python 3 (ipykernel)",
   "language": "python",
   "name": "python3"
  },
  "language_info": {
   "codemirror_mode": {
    "name": "ipython",
    "version": 3
   },
   "file_extension": ".py",
   "mimetype": "text/x-python",
   "name": "python",
   "nbconvert_exporter": "python",
   "pygments_lexer": "ipython3",
   "version": "3.9.12"
  }
 },
 "nbformat": 4,
 "nbformat_minor": 5
}
