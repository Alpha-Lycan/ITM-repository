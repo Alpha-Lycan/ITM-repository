{
 "cells": [
  {
   "cell_type": "raw",
   "id": "b85bd9e4-7ce9-486e-bae1-8045c9263934",
   "metadata": {},
   "source": [
    "optimal diet "
   ]
  },
  {
   "cell_type": "raw",
   "id": "74227969-ea86-49d6-baff-412cc004fa2f",
   "metadata": {},
   "source": [
    "Linear program for this\n",
    "\n",
    "Constants:\n",
    "    A=corn_protein_composition\n",
    "    B=corn_fiber_composition\n",
    "    C=corn_cost_per_pound\n",
    "    D=soymeal_protein_composition\n",
    "    E=soymeal_fiber_composition\n",
    "    F=soymeal_cost_per_pound\n",
    "\n",
    "Decision Variables: \n",
    "    Xi= Number of pounds of feed of type i\n",
    "    (i= 1 to 2, 1= corn, 2= soymeal)\n",
    "Obj. Function:\n",
    "    Min Z= total cost of feed\n",
    "    Min Z= CX1+FX2\n",
    "Constraints:\n",
    "    (AX1+DX2)/(X1+X2)<= 0.05 (fiber cap)\n",
    "    (BX1+EX2)/(X1+X2)>=0.3 (protein req)\n",
    "     X1+X2>= 800 (feed req)\n",
    "     X1, X2>=0\n",
    "     \n",
    "return a tuple of X1 and X2 (X1, X2)"
   ]
  },
  {
   "cell_type": "code",
   "execution_count": null,
   "id": "bb3b643f-c250-410c-b4df-ccea6651a6e4",
   "metadata": {},
   "outputs": [],
   "source": [
    "def optimal_diet(\n",
    "    corn_protein_composition, corn_fiber_composition, corn_cost_per_pound,\n",
    "    soymeal_protein_composition, soymeal_fiber_composition, soymeal_cost_per_pound\n",
    "):\n",
    "    \n",
    "    "
   ]
  },
  {
   "cell_type": "raw",
   "id": "085c6c62-2e53-4425-851a-29207a74cfb5",
   "metadata": {},
   "source": [
    "optimal investments"
   ]
  },
  {
   "cell_type": "raw",
   "id": "908cc24e-a269-4e88-8b96-90c793559fcd",
   "metadata": {},
   "source": [
    "Linear program: \n",
    "\n",
    "Constants: \n",
    "   A= personal_loan_rate\n",
    "   B= personal_loan_writeoff_ratio\n",
    "   C= car_loan_rate\n",
    "   D= car_loan_writeoff_ratio\n",
    "   E= home_loan_rate\n",
    "   F= home_loan_writeoff_ratio\n",
    "   G= farm_loan_rate\n",
    "   H= farm_loan_writeoff_ratio\n",
    "   I= commercial_loan_rate\n",
    "   J= commercial_loan_writeoff_ratio\n",
    "   K= constraint_max_pesos\n",
    "\n",
    "Decision Variables: \n",
    "    Let Xi be the amount of pesos to allocate to loan i.\n",
    "    (i=1 to 5, 1= Personal, 2= Car, 3= Home, 4= Farm, 5= Commercial)\n",
    "    \n",
    "Objective Function: \n",
    "    Max Z= revenue gained from interest of the loans\n",
    "    Max Z= AX1+CX2+EX2+GX4+IX5\n",
    "\n",
    "Constraints: \n",
    "\n",
    "    AX1+BX1+CX2+DX2+EX3+FX3+GX4+HX4+IX5+JX5<=K (Investment cap)\n",
    "    (GX4+HX4+IX5+JX5)/(AX1+BX1+CX2+DX2+EX3+FX3+GX4+HX4+IX5+JX5)>=0.4 (Commercial and farm loans req.)\n",
    "    (CX2+DX2)/(AX1+BX1+CX2+DX2+EX3+FX3)>=0.5 (Housing industry req)\n",
    "    (BX1+DX2+FX3+HX4+JX5)/(AX1+BX1+CX2+DX2+EX3+FX3+GX4+HX4+IX5+JX5)<=0.04 (bad debt cap.)\n",
    "    \n",
    "    X1, X2, X3, X4>=0 (Nonnegativity)\n",
    "    \n",
    "return a tuple of (X1, X2, X3, X4)"
   ]
  },
  {
   "cell_type": "code",
   "execution_count": null,
   "id": "32ead0eb-9aff-4ad7-b25f-c217241dcfba",
   "metadata": {},
   "outputs": [],
   "source": [
    "def optimal_investments(\n",
    "    personal_loan_rate, personal_loan_writeoff_ratio,\n",
    "    car_loan_rate, car_loan_writeoff_ratio,\n",
    "    home_loan_rate, home_loan_writeoff_ratio,\n",
    "    farm_loan_rate, farm_loan_writeoff_ratio,\n",
    "    commercial_loan_rate, commercial_loan_writeoff_ratio,\n",
    "    constraint_max_pesos\n",
    "):"
   ]
  }
 ],
 "metadata": {
  "kernelspec": {
   "display_name": "Python 3 (ipykernel)",
   "language": "python",
   "name": "python3"
  },
  "language_info": {
   "codemirror_mode": {
    "name": "ipython",
    "version": 3
   },
   "file_extension": ".py",
   "mimetype": "text/x-python",
   "name": "python",
   "nbconvert_exporter": "python",
   "pygments_lexer": "ipython3",
   "version": "3.9.12"
  }
 },
 "nbformat": 4,
 "nbformat_minor": 5
}
