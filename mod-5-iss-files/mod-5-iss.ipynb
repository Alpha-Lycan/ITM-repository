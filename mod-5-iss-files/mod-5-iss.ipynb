{
 "cells": [
  {
   "cell_type": "markdown",
   "id": "c2ba6006-122b-4d15-8307-fcabf57577e5",
   "metadata": {},
   "source": [
    "<h1> Tracking the International Space Station </h1>"
   ]
  },
  {
   "cell_type": "code",
   "execution_count": 42,
   "id": "167662d6-c544-42f9-9326-b31dcbce8fd3",
   "metadata": {},
   "outputs": [
    {
     "data": {
      "text/plain": [
       "{'iss_position': {'latitude': '-15.0220', 'longitude': '163.1389'},\n",
       " 'timestamp': 1657439601,\n",
       " 'message': 'success'}"
      ]
     },
     "execution_count": 42,
     "metadata": {},
     "output_type": "execute_result"
    }
   ],
   "source": [
    "import matplotlib.pyplot as plt\n",
    "import json\n",
    "import requests\n",
    "\n",
    "url=\"http://api.open-notify.org/iss-now.json\"\n",
    "\n",
    "def iss(call):\n",
    "    response = requests.get(call)\n",
    "    need_dict=response.json()\n",
    "    return(need_dict)\n",
    "\n",
    "iss(url)\n",
    "\n",
    "#and then check the response...\n",
    "# if response == 0:\n",
    "#     print (hostname, 'is up!')\n",
    "# else:\n",
    "#     print (hostname, 'is down!')\n",
    "\n",
    "\n",
    "\n",
    "\n",
    "\n"
   ]
  },
  {
   "cell_type": "code",
   "execution_count": null,
   "id": "d3abba47-d542-4729-a530-c23a12b185a9",
   "metadata": {},
   "outputs": [],
   "source": []
  }
 ],
 "metadata": {
  "kernelspec": {
   "display_name": "Python 3 (ipykernel)",
   "language": "python",
   "name": "python3"
  },
  "language_info": {
   "codemirror_mode": {
    "name": "ipython",
    "version": 3
   },
   "file_extension": ".py",
   "mimetype": "text/x-python",
   "name": "python",
   "nbconvert_exporter": "python",
   "pygments_lexer": "ipython3",
   "version": "3.9.12"
  }
 },
 "nbformat": 4,
 "nbformat_minor": 5
}
