{
 "cells": [
  {
   "cell_type": "markdown",
   "id": "c2ba6006-122b-4d15-8307-fcabf57577e5",
   "metadata": {},
   "source": [
    "<h1> Tracking the International Space Station </h1>"
   ]
  },
  {
   "cell_type": "code",
   "execution_count": 44,
   "id": "167662d6-c544-42f9-9326-b31dcbce8fd3",
   "metadata": {},
   "outputs": [
    {
     "name": "stdout",
     "output_type": "stream",
     "text": [
      "{'iss_position': {'latitude': '21.6411', 'longitude': '-169.3790'}, 'timestamp': 1657440333, 'message': 'success'}\n"
     ]
    }
   ],
   "source": [
    "import matplotlib.pyplot as plt\n",
    "import json\n",
    "import requests\n",
    "\n",
    "url=\"http://api.open-notify.org/iss-now.json\"\n",
    "\n",
    "\n",
    "response = requests.get(url)\n",
    "need_dict=response.json()\n",
    "print(need_dict)\n",
    "\n",
    "\n",
    "#and then check the response...\n",
    "# if response == 0:\n",
    "#     print (hostname, 'is up!')\n",
    "# else:\n",
    "#     print (hostname, 'is down!')\n",
    "\n",
    "\n",
    "\n",
    "\n",
    "\n"
   ]
  },
  {
   "cell_type": "code",
   "execution_count": null,
   "id": "d3abba47-d542-4729-a530-c23a12b185a9",
   "metadata": {},
   "outputs": [],
   "source": []
  }
 ],
 "metadata": {
  "kernelspec": {
   "display_name": "Python 3 (ipykernel)",
   "language": "python",
   "name": "python3"
  },
  "language_info": {
   "codemirror_mode": {
    "name": "ipython",
    "version": 3
   },
   "file_extension": ".py",
   "mimetype": "text/x-python",
   "name": "python",
   "nbconvert_exporter": "python",
   "pygments_lexer": "ipython3",
   "version": "3.9.12"
  }
 },
 "nbformat": 4,
 "nbformat_minor": 5
}
