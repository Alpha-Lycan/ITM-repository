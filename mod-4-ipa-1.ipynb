{
 "cells": [
  {
   "cell_type": "code",
   "execution_count": 30,
   "id": "8045e3c6-2389-42c7-b1b6-1f99ef985e92",
   "metadata": {},
   "outputs": [],
   "source": []
  },
  {
   "cell_type": "raw",
   "id": "d572ad6b-1f10-4e49-9f45-da1823fdc94e",
   "metadata": {},
   "source": [
    "1. Relationship Status"
   ]
  },
  {
   "cell_type": "code",
   "execution_count": 93,
   "id": "ad54a12c-d21b-4c1f-8f6c-6f60ef7444be",
   "metadata": {},
   "outputs": [
    {
     "data": {
      "text/plain": [
       "'no relationship'"
      ]
     },
     "execution_count": 93,
     "metadata": {},
     "output_type": "execute_result"
    }
   ],
   "source": [
    "def relationship_status(from_member, to_member,social_graph):\n",
    "\n",
    "    with open('mod-4-ipa-1-sample-data.py','r') as f:\n",
    "        from_member_following=(social_graph.get(from_member)).get(\"following\")\n",
    "        to_member_following=(social_graph.get(to_member)).get(\"following\")\n",
    "        follower= False \n",
    "        followed_by= False \n",
    "        friends= False \n",
    "        no_relationship= False \n",
    "        for username in from_member_following: \n",
    "            if username==to_member: \n",
    "                follower= True \n",
    "                \n",
    "        for username in to_member_following:\n",
    "            if username==from_member:\n",
    "                followed_by=True \n",
    "                \n",
    "        if follower==True and followed_by==True: \n",
    "            return('friends')\n",
    "        elif follower == True and followed_by==False:\n",
    "            return('follower')\n",
    "        elif follower== False and followed_by==True:\n",
    "            return('followed by')\n",
    "        else:\n",
    "            return('no relationship')\n",
    "                \n",
    "relationship_status(\"@joeilagan\",\"@bongolpoc\",social_graph)"
   ]
  },
  {
   "cell_type": "code",
   "execution_count": null,
   "id": "fd670dc7-c9e5-4a1f-b690-5037c5ce92c5",
   "metadata": {},
   "outputs": [],
   "source": []
  },
  {
   "cell_type": "raw",
   "id": "d4e35c16-0e5d-49f8-ac3e-f7add8cf3028",
   "metadata": {},
   "source": [
    "#demo using multidimensional list, in first thing and second number \n",
    "print(matrix[0][1])\n",
    "\n",
    "#traverse upper left to lower right\n",
    "[matrix[i][i] for i in range(3)]\n",
    "\n",
    "#traverse lower left to upper right: \n",
    "[matrix[3-1-i][i] for i in range(3)]\n",
    "\n",
    "#using zip with our matrix\n",
    "print([i for i in zip(*matrix)])"
   ]
  },
  {
   "cell_type": "raw",
   "id": "020c80e4-7049-4aef-95fe-0432c8682f3b",
   "metadata": {},
   "source": [
    "2. Tic tac toe"
   ]
  },
  {
   "cell_type": "code",
   "execution_count": 94,
   "id": "def9dbbc-bc6a-43c1-bd68-65f79ae1fefd",
   "metadata": {},
   "outputs": [
    {
     "ename": "NameError",
     "evalue": "name 'legs' is not defined",
     "output_type": "error",
     "traceback": [
      "\u001b[0;31m---------------------------------------------------------------------------\u001b[0m",
      "\u001b[0;31mNameError\u001b[0m                                 Traceback (most recent call last)",
      "Input \u001b[0;32mIn [94]\u001b[0m, in \u001b[0;36m<cell line: 12>\u001b[0;34m()\u001b[0m\n\u001b[1;32m      3\u001b[0m         \u001b[38;5;28mprint\u001b[39m(legs)\n\u001b[1;32m      5\u001b[0m     \u001b[38;5;66;03m#boarddim=len(board)\u001b[39;00m\n\u001b[1;32m      6\u001b[0m         \u001b[38;5;66;03m#print(boarddim)\u001b[39;00m\n\u001b[1;32m      7\u001b[0m     \u001b[38;5;66;03m#for i in range(boarddim): \u001b[39;00m\n\u001b[1;32m      8\u001b[0m     \n\u001b[1;32m      9\u001b[0m     \n\u001b[1;32m     10\u001b[0m     \u001b[38;5;66;03m#o or x or no winner \u001b[39;00m\n\u001b[0;32m---> 12\u001b[0m \u001b[43mtic_tac_toe\u001b[49m\u001b[43m(\u001b[49m\u001b[38;5;124;43m\"\u001b[39;49m\u001b[38;5;124;43mboard1\u001b[39;49m\u001b[38;5;124;43m\"\u001b[39;49m\u001b[43m)\u001b[49m\n",
      "Input \u001b[0;32mIn [94]\u001b[0m, in \u001b[0;36mtic_tac_toe\u001b[0;34m(board)\u001b[0m\n\u001b[1;32m      1\u001b[0m \u001b[38;5;28;01mdef\u001b[39;00m \u001b[38;5;21mtic_tac_toe\u001b[39m(board):\n\u001b[1;32m      2\u001b[0m     \u001b[38;5;28;01mwith\u001b[39;00m \u001b[38;5;28mopen\u001b[39m(\u001b[38;5;124m'\u001b[39m\u001b[38;5;124mmod-4-ipa-1-sample-data.py\u001b[39m\u001b[38;5;124m'\u001b[39m,\u001b[38;5;124m'\u001b[39m\u001b[38;5;124mr\u001b[39m\u001b[38;5;124m'\u001b[39m) \u001b[38;5;28;01mas\u001b[39;00m f:\n\u001b[0;32m----> 3\u001b[0m         \u001b[38;5;28mprint\u001b[39m(\u001b[43mlegs\u001b[49m)\n",
      "\u001b[0;31mNameError\u001b[0m: name 'legs' is not defined"
     ]
    }
   ],
   "source": [
    "#def tic_tac_toe(board):\n",
    "    \n",
    "        \n",
    "    #boarddim=len(board)\n",
    "        #print(boarddim)\n",
    "    #for i in range(boarddim): \n",
    "    \n",
    "    \n",
    "    #o or x or no winner \n",
    "\n",
    "# tic_tac_toe(\"board1\")"
   ]
  },
  {
   "cell_type": "code",
   "execution_count": 97,
   "id": "555dd134-c850-4452-904f-1cdcfc4424dc",
   "metadata": {},
   "outputs": [
    {
     "ename": "NameError",
     "evalue": "name 'argem' is not defined",
     "output_type": "error",
     "traceback": [
      "\u001b[0;31m---------------------------------------------------------------------------\u001b[0m",
      "\u001b[0;31mNameError\u001b[0m                                 Traceback (most recent call last)",
      "Input \u001b[0;32mIn [97]\u001b[0m, in \u001b[0;36m<cell line: 1>\u001b[0;34m()\u001b[0m\n\u001b[1;32m      1\u001b[0m \u001b[38;5;28;01mwith\u001b[39;00m \u001b[38;5;28mopen\u001b[39m(\u001b[38;5;124m'\u001b[39m\u001b[38;5;124mmod-4-ipa-1-sample-data.py\u001b[39m\u001b[38;5;124m'\u001b[39m,\u001b[38;5;124m'\u001b[39m\u001b[38;5;124mr\u001b[39m\u001b[38;5;124m'\u001b[39m) \u001b[38;5;28;01mas\u001b[39;00m f:\n\u001b[0;32m----> 2\u001b[0m     \u001b[38;5;28mprint\u001b[39m(\u001b[43margem\u001b[49m)\n",
      "\u001b[0;31mNameError\u001b[0m: name 'argem' is not defined"
     ]
    }
   ],
   "source": [
    "with open('mod-4-ipa-1-sample-data.py','r') as f:\n",
    "    print(argem)"
   ]
  },
  {
   "cell_type": "raw",
   "id": "fe21a3bc-53c9-4247-bfe6-532d8c0e1871",
   "metadata": {},
   "source": [
    "3. ETA"
   ]
  },
  {
   "cell_type": "code",
   "execution_count": null,
   "id": "5e306e33-8480-4cd9-b401-6a3f10932600",
   "metadata": {},
   "outputs": [],
   "source": [
    "def eta(first_stop, second_stop, route_map):"
   ]
  }
 ],
 "metadata": {
  "kernelspec": {
   "display_name": "Python 3 (ipykernel)",
   "language": "python",
   "name": "python3"
  },
  "language_info": {
   "codemirror_mode": {
    "name": "ipython",
    "version": 3
   },
   "file_extension": ".py",
   "mimetype": "text/x-python",
   "name": "python",
   "nbconvert_exporter": "python",
   "pygments_lexer": "ipython3",
   "version": "3.9.12"
  }
 },
 "nbformat": 4,
 "nbformat_minor": 5
}
