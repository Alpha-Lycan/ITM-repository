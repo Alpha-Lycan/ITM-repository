{
 "cells": [
  {
   "cell_type": "raw",
   "id": "ded5f739-39b0-4cad-9785-d507cf281956",
   "metadata": {},
   "source": [
    "1. shift letter\n",
    "\n",
    "    define range and give it numbers\n",
    "\n",
    "\n",
    "    "
   ]
  },
  {
   "cell_type": "code",
   "execution_count": 46,
   "id": "3e34304b-4101-4d8f-b224-282637f75c78",
   "metadata": {},
   "outputs": [
    {
     "data": {
      "text/plain": [
       "'C'"
      ]
     },
     "execution_count": 46,
     "metadata": {},
     "output_type": "execute_result"
    }
   ],
   "source": [
    "def shift_letter(letter, shift):\n",
    "    for ch in letter:\n",
    "        if ch.isalpha():\n",
    "            alphabet_stay = ord(ch) + shift \n",
    "            if alphabet_stay > ord('Z'):\n",
    "                alphabet_corrector= 64+alphabet_stay-ord('Z')\n",
    "                return chr(alphabet_corrector)\n",
    "            else: \n",
    "                return chr(alphabet_stay)\n",
    "        else:\n",
    "            len(letter) ==0 and len(shift)==0\n",
    "            return \" \"\n",
    "shift_letter(\"Z\", 3)\n",
    "        \n",
    "        \n",
    "    "
   ]
  },
  {
   "cell_type": "code",
   "execution_count": 43,
   "id": "28d91413-e095-4978-a152-7b7a2b066b8f",
   "metadata": {},
   "outputs": [
    {
     "data": {
      "text/plain": [
       "True"
      ]
     },
     "execution_count": 43,
     "metadata": {},
     "output_type": "execute_result"
    }
   ],
   "source": [
    "shift_letter(\"Z\", 3)== \"C\""
   ]
  },
  {
   "cell_type": "raw",
   "id": "c2676e29-4260-47d2-8c9e-432435a088fa",
   "metadata": {},
   "source": [
    "2. Caesar cipher"
   ]
  },
  {
   "cell_type": "code",
   "execution_count": 108,
   "id": "37e95ff0-fb1e-41c5-bfe0-3f12e64799c3",
   "metadata": {},
   "outputs": [
    {
     "data": {
      "text/plain": [
       "'BMFYNXQTAJ'"
      ]
     },
     "execution_count": 108,
     "metadata": {},
     "output_type": "execute_result"
    }
   ],
   "source": [
    "def caesar_cipher(message, shift): \n",
    "    encrypted= \"\" \n",
    "    for ch in message:\n",
    "        if ch.isupper(): \n",
    "            ch_number= ord(ch)-ord('A')\n",
    "            ch_shifted= (ch_number+shift)%26+ord(\"A\")\n",
    "            ch_new= chr(ch_shifted)\n",
    "        encrypted += ch_new\n",
    "    return encrypted  \n",
    "            \n",
    "caesar_cipher(\"WHATISLOVE\", 5)\n",
    "        "
   ]
  },
  {
   "cell_type": "raw",
   "id": "ca1f8b10-da25-49a7-a77c-a7afe7020380",
   "metadata": {},
   "source": [
    "3. shift by letter "
   ]
  },
  {
   "cell_type": "code",
   "execution_count": 106,
   "id": "bf017643-a13f-4a11-bec6-5cca620ede4c",
   "metadata": {},
   "outputs": [
    {
     "data": {
      "text/plain": [
       "' '"
      ]
     },
     "execution_count": 106,
     "metadata": {},
     "output_type": "execute_result"
    }
   ],
   "source": [
    "def shift_by_letter(letter, letter_shift):\n",
    "    for ch in letter:\n",
    "        if ch.isalpha():\n",
    "            alphabet_stay = ord(ch) + (ord(letter_shift)-65) \n",
    "            if alphabet_stay > ord('Z'):\n",
    "                alphabet_corrector= 64+alphabet_stay-ord('Z')\n",
    "                return chr(alphabet_corrector)\n",
    "            else: \n",
    "                return chr(alphabet_stay)\n",
    "        else:\n",
    "            len(letter) ==0 and len(letter_shift)==0\n",
    "            return \" \"\n",
    "shift_by_letter(\" \", _)"
   ]
  },
  {
   "cell_type": "raw",
   "id": "39fea10f-b4c1-4377-9a62-d37bab28e17d",
   "metadata": {},
   "source": [
    "4. vigenere cipher (not done) \n",
    "'''Vigenere Cipher. \n",
    "    15 points.\n",
    "    \n",
    "    Encrypts a message using a keyphrase instead of a static number.\n",
    "    Every letter in the message is shifted by the number represented by the \n",
    "        respective letter in the key.\n",
    "    Spaces should be ignored.\n",
    "\n",
    "    Example:\n",
    "    vigenere_cipher(\"A C\", \"KEY\") -> \"K A\"\n",
    "\n",
    "    If needed, the keyphrase is extended to match the length of the key.\n",
    "        If the key is \"KEY\" and the message is \"LONGTEXT\",\n",
    "        the key will be extended to be \"KEYKEYKE\".\n",
    "\n",
    "    Parameters\n",
    "    ----------\n",
    "    message: str\n",
    "        a string of uppercase English letters and spaces.\n",
    "    key: str\n",
    "        a string of uppercase English letters. Will never be longer than the message.\n",
    "        Will never contain spaces.\n",
    "\n",
    "    Returns\n",
    "    -------\n",
    "    str\n",
    "        the message, shifted appropriately.\n",
    "    '''\n",
    "    # Replace `pass` with your code. \n",
    "    # Stay within the function. Only use the parameters as input. The function should return your answer.\n",
    "    pass"
   ]
  },
  {
   "cell_type": "code",
   "execution_count": 46,
   "id": "e6ad283b-66a3-4481-9685-f12db0a458f7",
   "metadata": {},
   "outputs": [
    {
     "ename": "SyntaxError",
     "evalue": "invalid syntax (906566044.py, line 16)",
     "output_type": "error",
     "traceback": [
      "\u001b[0;36m  Input \u001b[0;32mIn [46]\u001b[0;36m\u001b[0m\n\u001b[0;31m    return(\"\".join(key))\u001b[0m\n\u001b[0m    ^\u001b[0m\n\u001b[0;31mSyntaxError\u001b[0m\u001b[0;31m:\u001b[0m invalid syntax\n"
     ]
    }
   ],
   "source": [
    "def vigenere_cipher(message, key):\n",
    "    key=list(key)\n",
    "    cipher_text=[]\n",
    "    plaintext= \" \"\n",
    "    for c in message:\n",
    "        if len(message) == len(key): \n",
    "            if c.isalpha():\n",
    "                for i in range(len(message)):\n",
    "                    n = (ord(message[i]) +ord(key[i])) % 26\n",
    "                    y=n+ord('A')\n",
    "                    cipher_text.append(chr(y)) \n",
    "                return(\"\" . join(cipher_text))\n",
    "        elif len(message)>len(key): \n",
    "            for i in range(len(message) -len(key)):\n",
    "                key.append(key[i % len(key)]\n",
    "                lengh(\"\".join(key))\n",
    "                    m = (ord(message[i]) +ord(lengthened_key[i])) % 26\n",
    "                    x=m+ord('A')\n",
    "                    cipher_text.append(chr(y)) \n",
    "            return(\"\" . join(cipher_text))\n",
    "vigenere_cipher(\"BAN\", \"KEY\")                         "
   ]
  },
  {
   "cell_type": "raw",
   "id": "a0166d6c-035d-4e4c-ab3d-99decd289c7a",
   "metadata": {},
   "source": [
    "5. scytale cipher"
   ]
  },
  {
   "cell_type": "code",
   "execution_count": null,
   "id": "b260f17e-f01d-4edd-81fd-22bdbd046064",
   "metadata": {},
   "outputs": [],
   "source": []
  },
  {
   "cell_type": "code",
   "execution_count": null,
   "id": "dcdf3c60-c5bf-4168-a0cf-df7a32265ec5",
   "metadata": {},
   "outputs": [],
   "source": []
  },
  {
   "cell_type": "code",
   "execution_count": 12,
   "id": "f195f608-8857-4c2e-98db-15c2009cb941",
   "metadata": {},
   "outputs": [
    {
     "ename": "IndexError",
     "evalue": "string index out of range",
     "output_type": "error",
     "traceback": [
      "\u001b[0;31m---------------------------------------------------------------------------\u001b[0m",
      "\u001b[0;31mIndexError\u001b[0m                                Traceback (most recent call last)",
      "Input \u001b[0;32mIn [12]\u001b[0m, in \u001b[0;36m<cell line: 8>\u001b[0;34m()\u001b[0m\n\u001b[1;32m      6\u001b[0m     encrypt_text\u001b[38;5;241m.\u001b[39mappend(\u001b[38;5;28mchr\u001b[39m(x)) \n\u001b[1;32m      7\u001b[0m   \u001b[38;5;28;01mreturn\u001b[39;00m(\u001b[38;5;124m\"\u001b[39m\u001b[38;5;124m\"\u001b[39m \u001b[38;5;241m.\u001b[39m join(encrypt_text))     \n\u001b[0;32m----> 8\u001b[0m \u001b[43mencryption\u001b[49m\u001b[43m(\u001b[49m\u001b[38;5;124;43m\"\u001b[39;49m\u001b[38;5;124;43mABCD\u001b[39;49m\u001b[38;5;124;43m\"\u001b[39;49m\u001b[43m,\u001b[49m\u001b[43m \u001b[49m\u001b[38;5;124;43m\"\u001b[39;49m\u001b[38;5;124;43mKEY\u001b[39;49m\u001b[38;5;124;43m\"\u001b[39;49m\u001b[43m)\u001b[49m\n",
      "Input \u001b[0;32mIn [12]\u001b[0m, in \u001b[0;36mencryption\u001b[0;34m(string, key)\u001b[0m\n\u001b[1;32m      2\u001b[0m encrypt_text \u001b[38;5;241m=\u001b[39m [] \n\u001b[1;32m      3\u001b[0m \u001b[38;5;28;01mfor\u001b[39;00m i \u001b[38;5;129;01min\u001b[39;00m \u001b[38;5;28mrange\u001b[39m(\u001b[38;5;28mlen\u001b[39m(string)): \n\u001b[0;32m----> 4\u001b[0m   x \u001b[38;5;241m=\u001b[39m (\u001b[38;5;28mord\u001b[39m(string[i]) \u001b[38;5;241m+\u001b[39m\u001b[38;5;28mord\u001b[39m(\u001b[43mkey\u001b[49m\u001b[43m[\u001b[49m\u001b[43mi\u001b[49m\u001b[43m]\u001b[49m)) \u001b[38;5;241m%\u001b[39m \u001b[38;5;241m26\u001b[39m\n\u001b[1;32m      5\u001b[0m   x \u001b[38;5;241m+\u001b[39m\u001b[38;5;241m=\u001b[39m \u001b[38;5;28mord\u001b[39m(\u001b[38;5;124m'\u001b[39m\u001b[38;5;124mA\u001b[39m\u001b[38;5;124m'\u001b[39m) \n\u001b[1;32m      6\u001b[0m   encrypt_text\u001b[38;5;241m.\u001b[39mappend(\u001b[38;5;28mchr\u001b[39m(x)) \n",
      "\u001b[0;31mIndexError\u001b[0m: string index out of range"
     ]
    }
   ],
   "source": []
  },
  {
   "cell_type": "code",
   "execution_count": null,
   "id": "22a5ea5e-1cad-4dcd-8f2c-d07a9095dd1a",
   "metadata": {},
   "outputs": [],
   "source": []
  }
 ],
 "metadata": {
  "kernelspec": {
   "display_name": "Python 3 (ipykernel)",
   "language": "python",
   "name": "python3"
  },
  "language_info": {
   "codemirror_mode": {
    "name": "ipython",
    "version": 3
   },
   "file_extension": ".py",
   "mimetype": "text/x-python",
   "name": "python",
   "nbconvert_exporter": "python",
   "pygments_lexer": "ipython3",
   "version": "3.9.12"
  }
 },
 "nbformat": 4,
 "nbformat_minor": 5
}
