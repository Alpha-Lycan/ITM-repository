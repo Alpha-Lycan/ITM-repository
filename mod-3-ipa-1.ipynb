{
 "cells": [
  {
   "cell_type": "raw",
   "id": "ded5f739-39b0-4cad-9785-d507cf281956",
   "metadata": {},
   "source": [
    "1. shift letter\n",
    "\n",
    "    define range and give it numbers\n",
    "\n",
    "\n",
    "    "
   ]
  },
  {
   "cell_type": "code",
   "execution_count": 6,
   "id": "3e34304b-4101-4d8f-b224-282637f75c78",
   "metadata": {},
   "outputs": [
    {
     "data": {
      "text/plain": [
       "'C'"
      ]
     },
     "execution_count": 6,
     "metadata": {},
     "output_type": "execute_result"
    }
   ],
   "source": [
    "def shift_letter(letter, shift):\n",
    "    for ch in letter:\n",
    "        if ch.isalpha():\n",
    "            alphabet_stay = ord(ch) + shift \n",
    "            if alphabet_stay > ord('Z'):\n",
    "                alphabet_corrector= 64+alphabet_stay-ord('Z')\n",
    "                return chr(alphabet_corrector)\n",
    "            else: \n",
    "                return chr(alphabet_stay)\n",
    "        else:\n",
    "            len(letter) ==0 and len(shift)==0\n",
    "            return \" \"\n",
    "shift_letter(\"Z\", 3)\n",
    "        \n",
    "        \n",
    "    "
   ]
  },
  {
   "cell_type": "code",
   "execution_count": 43,
   "id": "28d91413-e095-4978-a152-7b7a2b066b8f",
   "metadata": {},
   "outputs": [
    {
     "data": {
      "text/plain": [
       "True"
      ]
     },
     "execution_count": 43,
     "metadata": {},
     "output_type": "execute_result"
    }
   ],
   "source": [
    "shift_letter(\"Z\", 3)== \"C\""
   ]
  },
  {
   "cell_type": "raw",
   "id": "c2676e29-4260-47d2-8c9e-432435a088fa",
   "metadata": {},
   "source": [
    "2. Caesar cipher"
   ]
  },
  {
   "cell_type": "code",
   "execution_count": 20,
   "id": "37e95ff0-fb1e-41c5-bfe0-3f12e64799c3",
   "metadata": {},
   "outputs": [
    {
     "ename": "AttributeError",
     "evalue": "'str' object has no attribute 'isblank'",
     "output_type": "error",
     "traceback": [
      "\u001b[0;31m---------------------------------------------------------------------------\u001b[0m",
      "\u001b[0;31mAttributeError\u001b[0m                            Traceback (most recent call last)",
      "Input \u001b[0;32mIn [20]\u001b[0m, in \u001b[0;36m<cell line: 12>\u001b[0;34m()\u001b[0m\n\u001b[1;32m     10\u001b[0m             result\u001b[38;5;241m+\u001b[39m\u001b[38;5;241m=\u001b[39m\u001b[38;5;124m\"\u001b[39m\u001b[38;5;124m \u001b[39m\u001b[38;5;124m\"\u001b[39m\n\u001b[1;32m     11\u001b[0m     \u001b[38;5;28;01mreturn\u001b[39;00m(encrypted)\n\u001b[0;32m---> 12\u001b[0m \u001b[43mcaesar_cipher\u001b[49m\u001b[43m(\u001b[49m\u001b[38;5;124;43m\"\u001b[39;49m\u001b[38;5;124;43mN K\u001b[39;49m\u001b[38;5;124;43m\"\u001b[39;49m\u001b[43m,\u001b[49m\u001b[43m \u001b[49m\u001b[38;5;241;43m5\u001b[39;49m\u001b[43m)\u001b[49m\n",
      "Input \u001b[0;32mIn [20]\u001b[0m, in \u001b[0;36mcaesar_cipher\u001b[0;34m(message, shift)\u001b[0m\n\u001b[1;32m      7\u001b[0m     \u001b[38;5;28;01mif\u001b[39;00m (char\u001b[38;5;241m.\u001b[39misupper()):  \n\u001b[1;32m      8\u001b[0m         result \u001b[38;5;241m+\u001b[39m\u001b[38;5;241m=\u001b[39m \u001b[38;5;28mchr\u001b[39m((\u001b[38;5;28mord\u001b[39m(char) \u001b[38;5;241m+\u001b[39m shift \u001b[38;5;241m-\u001b[39m \u001b[38;5;241m64\u001b[39m) \u001b[38;5;241m%\u001b[39m \u001b[38;5;241m26\u001b[39m \u001b[38;5;241m+\u001b[39m \u001b[38;5;241m65\u001b[39m) \n\u001b[0;32m----> 9\u001b[0m     \u001b[38;5;28;01melif\u001b[39;00m \u001b[43mchar\u001b[49m\u001b[38;5;241;43m.\u001b[39;49m\u001b[43misblank\u001b[49m(): \n\u001b[1;32m     10\u001b[0m         result\u001b[38;5;241m+\u001b[39m\u001b[38;5;241m=\u001b[39m\u001b[38;5;124m\"\u001b[39m\u001b[38;5;124m \u001b[39m\u001b[38;5;124m\"\u001b[39m\n\u001b[1;32m     11\u001b[0m \u001b[38;5;28;01mreturn\u001b[39;00m(encrypted)\n",
      "\u001b[0;31mAttributeError\u001b[0m: 'str' object has no attribute 'isblank'"
     ]
    }
   ],
   "source": [
    "def caesar_cipher(message, shift):  \n",
    "    result = \"\"  \n",
    "    message_length=len(message)\n",
    "  \n",
    "    for i in range(message_length):  \n",
    "        char = message[i]  \n",
    "        if (char.isupper()):  \n",
    "            result += chr((ord(char) + shift - 64) % 26 + 65) \n",
    "        elif char.isblank(): \n",
    "            result+=\" \"\n",
    "    return(encrypted)\n",
    "caesar_cipher(\"N K\", 5)\n",
    "        "
   ]
  },
  {
   "cell_type": "code",
   "execution_count": 12,
   "id": "6dab9204-3fa5-49b2-a3cb-34fc4626daab",
   "metadata": {},
   "outputs": [
    {
     "data": {
      "text/plain": [
       "'FFF'"
      ]
     },
     "execution_count": 12,
     "metadata": {},
     "output_type": "execute_result"
    }
   ],
   "source": [
    "def encypt_func(txt, s):  \n",
    "    result = \"\"  \n",
    "  \n",
    "  \n",
    "# transverse the plain txt  \n",
    "    for i in range(len(txt)):  \n",
    "        char = txt[i]  \n",
    "        # encypt_func uppercase characters in plain txt  \n",
    "  \n",
    "        if (char.isupper()):  \n",
    "            result += chr((ord(char) + s - 64) % 26 + 65)  \n",
    "        # encypt_func lowercase characters in plain txt  \n",
    "        else:  \n",
    "            result += chr((ord(char) + s - 96) % 26 + 97)  \n",
    "    return result \n",
    "encypt_func(\"ZZZ\",5)"
   ]
  },
  {
   "cell_type": "raw",
   "id": "ca1f8b10-da25-49a7-a77c-a7afe7020380",
   "metadata": {},
   "source": [
    "3. shift by letter "
   ]
  },
  {
   "cell_type": "code",
   "execution_count": 6,
   "id": "bf017643-a13f-4a11-bec6-5cca620ede4c",
   "metadata": {},
   "outputs": [
    {
     "data": {
      "text/plain": [
       "'E'"
      ]
     },
     "execution_count": 6,
     "metadata": {},
     "output_type": "execute_result"
    }
   ],
   "source": [
    "def shift_by_letter(letter, letter_shift):\n",
    "    for ch in letter:\n",
    "        if ch.isalpha():\n",
    "            alphabet_stay = ord(ch) + (ord(letter_shift)-65) \n",
    "            if alphabet_stay > ord('Z'):\n",
    "                alphabet_corrector= 64+alphabet_stay-ord('Z')\n",
    "                return chr(alphabet_corrector)\n",
    "            else: \n",
    "                return chr(alphabet_stay)\n",
    "        else:\n",
    "            len(letter) ==0 and len(letter_shift)==0\n",
    "            return \" \"\n",
    "shift_by_letter(\"B\", 'D')"
   ]
  },
  {
   "cell_type": "raw",
   "id": "39fea10f-b4c1-4377-9a62-d37bab28e17d",
   "metadata": {},
   "source": [
    "4. vigenere cipher (not done) \n",
    "'''Vigenere Cipher. \n",
    "    15 points.\n",
    "    \n",
    "    Encrypts a message using a keyphrase instead of a static number.\n",
    "    Every letter in the message is shifted by the number represented by the \n",
    "        respective letter in the key.\n",
    "    Spaces should be ignored.\n",
    "\n",
    "    Example:\n",
    "    vigenere_cipher(\"A C\", \"KEY\") -> \"K A\"\n",
    "\n",
    "    If needed, the keyphrase is extended to match the length of the key.\n",
    "        If the key is \"KEY\" and the message is \"LONGTEXT\",\n",
    "        the key will be extended to be \"KEYKEYKE\".\n",
    "\n",
    "    Parameters\n",
    "    ----------\n",
    "    message: str\n",
    "        a string of uppercase English letters and spaces.\n",
    "    key: str\n",
    "        a string of uppercase English letters. Will never be longer than the message.\n",
    "        Will never contain spaces.\n",
    "\n",
    "    Returns\n",
    "    -------\n",
    "    str\n",
    "        the message, shifted appropriately.\n",
    "    '''\n",
    "    # Replace `pass` with your code. \n",
    "    # Stay within the function. Only use the parameters as input. The function should return your answer.\n",
    "    pass"
   ]
  },
  {
   "cell_type": "code",
   "execution_count": 3,
   "id": "e6ad283b-66a3-4481-9685-f12db0a458f7",
   "metadata": {},
   "outputs": [
    {
     "data": {
      "text/plain": [
       "'KFA'"
      ]
     },
     "execution_count": 3,
     "metadata": {},
     "output_type": "execute_result"
    }
   ],
   "source": [
    "def vigenere_cipher(message, key):\n",
    "    key=list(key)\n",
    "    cipher_text=[]\n",
    "    if len(message)>len(key): \n",
    "        for i in range(len(message)):\n",
    "            key.append(key[i % len(key)])\n",
    "            lengthened_key=key\n",
    "            m = (ord(message[i]) +ord(lengthened_key[i])) % 26\n",
    "            x=m+ord('A')\n",
    "            if message[i]== \" \":\n",
    "                cipher_text.append(\" \")\n",
    "            else:\n",
    "                cipher_text.append(chr(x))\n",
    "        return (\"\".join(cipher_text))\n",
    "    else: #len(message) == len(key), len is<key \n",
    "        for i in range(len(message)):\n",
    "            n = (ord(message[i]) +ord(key[i])) % 26\n",
    "            y=n+ord('A')\n",
    "            if message[i]== \" \":\n",
    "                cipher_text.append(\" \")\n",
    "            else:\n",
    "                cipher_text.append(chr(y))\n",
    "        return(\"\" . join(cipher_text))\n",
    "        \n",
    "vigenere_cipher(\"ABC\", \"KEY\")                   "
   ]
  },
  {
   "cell_type": "raw",
   "id": "a0166d6c-035d-4e4c-ab3d-99decd289c7a",
   "metadata": {},
   "source": [
    "5. scytale cipher"
   ]
  },
  {
   "cell_type": "code",
   "execution_count": 2,
   "id": "b260f17e-f01d-4edd-81fd-22bdbd046064",
   "metadata": {},
   "outputs": [
    {
     "data": {
      "text/plain": [
       "'IRIANMOGFANEOT__'"
      ]
     },
     "execution_count": 2,
     "metadata": {},
     "output_type": "execute_result"
    }
   ],
   "source": [
    "def scytale_cipher(message, shift):\n",
    "    cipher_text=[]\n",
    "    if len(message)%shift!=0:\n",
    "        while len(message)%shift!=0: \n",
    "            message+=\"_\"\n",
    "    for i in range(len(message)): \n",
    "        x=(i // shift) + (len(message) // shift) * (i % shift)\n",
    "        cipher_text.append(message[x])\n",
    "    return(\"\".join(cipher_text))\n",
    "scytale_cipher(\"INFORMATION_AGE\", 4)"
   ]
  },
  {
   "cell_type": "raw",
   "id": "a02533c5-300a-4eae-905d-d184432c4b65",
   "metadata": {},
   "source": [
    "6. scytale decipher"
   ]
  },
  {
   "cell_type": "code",
   "execution_count": 130,
   "id": "f195f608-8857-4c2e-98db-15c2009cb941",
   "metadata": {},
   "outputs": [
    {
     "data": {
      "text/plain": [
       "'INFORMATION_AGE_'"
      ]
     },
     "execution_count": 130,
     "metadata": {},
     "output_type": "execute_result"
    }
   ],
   "source": [
    "def scytale_decipher(message, shift):\n",
    "    if len(message)%(len(message) // shift)==0:\n",
    "        shift= len(message)//shift\n",
    "        cipher_text=[]\n",
    "        if len(message)%shift!=0:\n",
    "            while len(message)%shift!=0: \n",
    "                message+=\"_\"\n",
    "        for i in range(len(message)): \n",
    "            x=(i // shift) + (len(message) // shift) * (i % shift)\n",
    "            cipher_text.append(message[x])\n",
    "        return(\"\".join(cipher_text))\n",
    "\n",
    "    \n",
    "    \n",
    "    \n",
    "    \n",
    "scytale_decipher('IRIANMOGFANEOT__', 4)"
   ]
  },
  {
   "cell_type": "code",
   "execution_count": null,
   "id": "c61a1058-2487-4105-9943-738bf2b98648",
   "metadata": {},
   "outputs": [],
   "source": []
  }
 ],
 "metadata": {
  "kernelspec": {
   "display_name": "Python 3 (ipykernel)",
   "language": "python",
   "name": "python3"
  },
  "language_info": {
   "codemirror_mode": {
    "name": "ipython",
    "version": 3
   },
   "file_extension": ".py",
   "mimetype": "text/x-python",
   "name": "python",
   "nbconvert_exporter": "python",
   "pygments_lexer": "ipython3",
   "version": "3.9.12"
  }
 },
 "nbformat": 4,
 "nbformat_minor": 5
}
