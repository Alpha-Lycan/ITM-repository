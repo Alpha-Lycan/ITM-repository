{
 "cells": [
  {
   "cell_type": "raw",
   "id": "1fd6138b-eda3-4920-a406-871e33cef459",
   "metadata": {},
   "source": [
    "1. Savings "
   ]
  },
  {
   "cell_type": "code",
   "execution_count": 6,
   "id": "2bde62f6-e2f8-4dd0-b3e6-ef827b34b745",
   "metadata": {},
   "outputs": [
    {
     "ename": "TypeError",
     "evalue": "unsupported operand type(s) for +: 'int' and 'str'",
     "output_type": "error",
     "traceback": [
      "\u001b[0;31m---------------------------------------------------------------------------\u001b[0m",
      "\u001b[0;31mTypeError\u001b[0m                                 Traceback (most recent call last)",
      "Input \u001b[0;32mIn [6]\u001b[0m, in \u001b[0;36m<cell line: 3>\u001b[0;34m()\u001b[0m\n\u001b[1;32m      1\u001b[0m \u001b[38;5;28;01mdef\u001b[39;00m \u001b[38;5;21msavings\u001b[39m(gross_pay, tax_rate, expenses):\n\u001b[1;32m      2\u001b[0m     \u001b[38;5;28;01mreturn\u001b[39;00m(gross_pay\u001b[38;5;241m-\u001b[39m\u001b[38;5;28mint\u001b[39m((gross_pay\u001b[38;5;241m*\u001b[39mtax_rate)\u001b[38;5;241m-\u001b[39mexpenses)) \u001b[38;5;241m+\u001b[39m\u001b[38;5;124m\"\u001b[39m\u001b[38;5;124m \u001b[39m\u001b[38;5;124m\"\u001b[39m\u001b[38;5;241m+\u001b[39m \u001b[38;5;124m\"\u001b[39m\u001b[38;5;124mcentavos\u001b[39m\u001b[38;5;124m\"\u001b[39m\n\u001b[0;32m----> 3\u001b[0m \u001b[43msavings\u001b[49m\u001b[43m(\u001b[49m\u001b[38;5;241;43m50000\u001b[39;49m\u001b[43m,\u001b[49m\u001b[43m \u001b[49m\u001b[38;5;241;43m0.17\u001b[39;49m\u001b[43m,\u001b[49m\u001b[43m \u001b[49m\u001b[38;5;241;43m10000\u001b[39;49m\u001b[43m)\u001b[49m\n",
      "Input \u001b[0;32mIn [6]\u001b[0m, in \u001b[0;36msavings\u001b[0;34m(gross_pay, tax_rate, expenses)\u001b[0m\n\u001b[1;32m      1\u001b[0m \u001b[38;5;28;01mdef\u001b[39;00m \u001b[38;5;21msavings\u001b[39m(gross_pay, tax_rate, expenses):\n\u001b[0;32m----> 2\u001b[0m     \u001b[38;5;28;01mreturn\u001b[39;00m\u001b[43m(\u001b[49m\u001b[43mgross_pay\u001b[49m\u001b[38;5;241;43m-\u001b[39;49m\u001b[38;5;28;43mint\u001b[39;49m\u001b[43m(\u001b[49m\u001b[43m(\u001b[49m\u001b[43mgross_pay\u001b[49m\u001b[38;5;241;43m*\u001b[39;49m\u001b[43mtax_rate\u001b[49m\u001b[43m)\u001b[49m\u001b[38;5;241;43m-\u001b[39;49m\u001b[43mexpenses\u001b[49m\u001b[43m)\u001b[49m\u001b[43m)\u001b[49m\u001b[43m \u001b[49m\u001b[38;5;241;43m+\u001b[39;49m\u001b[38;5;124;43m\"\u001b[39;49m\u001b[38;5;124;43m \u001b[39;49m\u001b[38;5;124;43m\"\u001b[39;49m\u001b[38;5;241m+\u001b[39m \u001b[38;5;124m\"\u001b[39m\u001b[38;5;124mcentavos\u001b[39m\u001b[38;5;124m\"\u001b[39m\n",
      "\u001b[0;31mTypeError\u001b[0m: unsupported operand type(s) for +: 'int' and 'str'"
     ]
    }
   ],
   "source": [
    "def savings(gross_pay, tax_rate, expenses):\n",
    "    return(gross_pay-int((gross_pay*tax_rate)-expenses)) +\" \"+ \"centavos\"\n",
    "savings(50000, 0.17, 10000)\n",
    "    "
   ]
  },
  {
   "cell_type": "raw",
   "id": "8ab48be0-83df-44c7-bf74-00d9e636327c",
   "metadata": {},
   "source": [
    "2. Material Waste"
   ]
  },
  {
   "cell_type": "code",
   "execution_count": 2,
   "id": "02fc1351-eaae-4c7e-80dc-f7d0a91cbefa",
   "metadata": {},
   "outputs": [
    {
     "data": {
      "text/plain": [
       "'98500 l'"
      ]
     },
     "execution_count": 2,
     "metadata": {},
     "output_type": "execute_result"
    }
   ],
   "source": [
    "def material_waste(total_material, material_units, num_jobs, job_consumption):\n",
    "    return((str(total_material-(num_jobs*job_consumption))+ material_units))\n",
    "material_waste(100000,\"l\", 50, 30)\n",
    "    "
   ]
  },
  {
   "cell_type": "raw",
   "id": "854b0ebd-d5b8-477a-adf9-0b03b12d874a",
   "metadata": {},
   "source": [
    "3. Interest "
   ]
  },
  {
   "cell_type": "code",
   "execution_count": 3,
   "id": "377f856a-6499-4bc9-91a0-cb35eaa62d94",
   "metadata": {},
   "outputs": [
    {
     "data": {
      "text/plain": [
       "55000"
      ]
     },
     "execution_count": 3,
     "metadata": {},
     "output_type": "execute_result"
    }
   ],
   "source": [
    "def interest(principal, rate, periods):\n",
    "    return(int(principal*rate*periods)+principal)\n",
    "interest(50000, 0.05, 2)"
   ]
  },
  {
   "cell_type": "raw",
   "id": "b5733e9b-f6f5-42e2-b94f-acb8bc5fa5aa",
   "metadata": {},
   "source": [
    "4.BMI"
   ]
  },
  {
   "cell_type": "code",
   "execution_count": 5,
   "id": "8ad9f7d5-91f2-4ac7-8b2e-c56a76fe9975",
   "metadata": {},
   "outputs": [
    {
     "data": {
      "text/plain": [
       "20.785979017892288"
      ]
     },
     "execution_count": 5,
     "metadata": {},
     "output_type": "execute_result"
    }
   ],
   "source": [
    "def body_mass_index(weight, height):\n",
    "    return((weight*0.459327)\n",
    "           /((0.3048*(height[0]+(height[1]/12)))**2))\n",
    "body_mass_index(135, [5,8])\n"
   ]
  },
  {
   "cell_type": "raw",
   "id": "4c566a05-cd4f-4e83-a5e2-376f21782a2a",
   "metadata": {},
   "source": [
    "Note: kg= nlbs *0.45392 \n",
    "m= 0.3048ft"
   ]
  },
  {
   "cell_type": "code",
   "execution_count": null,
   "id": "53236d84-9db1-440f-83b3-ed8116ec47c5",
   "metadata": {},
   "outputs": [],
   "source": []
  }
 ],
 "metadata": {
  "kernelspec": {
   "display_name": "Python 3 (ipykernel)",
   "language": "python",
   "name": "python3"
  },
  "language_info": {
   "codemirror_mode": {
    "name": "ipython",
    "version": 3
   },
   "file_extension": ".py",
   "mimetype": "text/x-python",
   "name": "python",
   "nbconvert_exporter": "python",
   "pygments_lexer": "ipython3",
   "version": "3.9.12"
  }
 },
 "nbformat": 4,
 "nbformat_minor": 5
}
